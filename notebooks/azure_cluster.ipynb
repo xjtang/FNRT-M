{
 "cells": [
  {
   "cell_type": "code",
   "execution_count": 3,
   "id": "2fac1e14-7338-4957-913e-b56b37036863",
   "metadata": {},
   "outputs": [],
   "source": [
    "import io\n",
    "import os\n",
    "import math\n",
    "import stackstac\n",
    "import geojson\n",
    "import dask_gateway\n",
    "import planetary_computer\n",
    "import rasterio.features\n",
    "import azure.storage.blob\n",
    "import numpy as np\n",
    "import xarray as xr\n",
    "import rioxarray as rioxr\n",
    "import pysptools.abundance_maps as amp\n",
    "import matplotlib.pyplot as plt\n",
    "from dask.distributed import PipInstall, Lock\n",
    "from scipy.stats import mode\n",
    "from dask_gateway import GatewayCluster\n",
    "from pystac_client import Client\n",
    "from sklearn import linear_model\n",
    "from sklearn.metrics import mean_squared_error\n",
    "from dask_cloudprovider.azure import AzureVMCluster"
   ]
  },
  {
   "cell_type": "code",
   "execution_count": 4,
   "id": "96d78ef5-4ffa-4ac6-9bcb-d55fd302a033",
   "metadata": {},
   "outputs": [
    {
     "name": "stdout",
     "output_type": "stream",
     "text": [
      "Creating scheduler instance\n",
      "Assigned public IP\n",
      "Network interface ready\n",
      "Creating VM\n",
      "Created VM dask-3eac1237-scheduler\n",
      "Waiting for scheduler to run at 13.81.13.154:8786\n"
     ]
    },
    {
     "name": "stderr",
     "output_type": "stream",
     "text": [
      "Exception ignored in: <function WeakSet.__init__.<locals>._remove at 0x7fbf26500c10>\n",
      "Traceback (most recent call last):\n",
      "  File \"/srv/conda/envs/notebook/lib/python3.8/_weakrefset.py\", line 38, in _remove\n",
      "    def _remove(item, selfref=ref(self)):\n",
      "KeyboardInterrupt: \n"
     ]
    },
    {
     "ename": "KeyboardInterrupt",
     "evalue": "",
     "output_type": "error",
     "traceback": [
      "\u001b[0;31m---------------------------------------------------------------------------\u001b[0m",
      "\u001b[0;31mKeyboardInterrupt\u001b[0m                         Traceback (most recent call last)",
      "Input \u001b[0;32mIn [4]\u001b[0m, in \u001b[0;36m<cell line: 13>\u001b[0;34m()\u001b[0m\n\u001b[1;32m      9\u001b[0m     cluster \u001b[38;5;241m=\u001b[39m AzureVMCluster(location\u001b[38;5;241m=\u001b[39mlocation, resource_group\u001b[38;5;241m=\u001b[39mresource_group, vnet\u001b[38;5;241m=\u001b[39mvnet, security_group\u001b[38;5;241m=\u001b[39msecurity_group,\n\u001b[1;32m     10\u001b[0m                             n_workers\u001b[38;5;241m=\u001b[39mn)\n\u001b[1;32m     12\u001b[0m     \u001b[38;5;28;01mreturn\u001b[39;00m cluster\n\u001b[0;32m---> 13\u001b[0m cluster \u001b[38;5;241m=\u001b[39m \u001b[43mget_cluster\u001b[49m\u001b[43m(\u001b[49m\u001b[38;5;241;43m1\u001b[39;49m\u001b[43m,\u001b[49m\u001b[38;5;241;43m2\u001b[39;49m\u001b[43m,\u001b[49m\u001b[38;5;241;43m16\u001b[39;49m\u001b[43m)\u001b[49m\n",
      "Input \u001b[0;32mIn [4]\u001b[0m, in \u001b[0;36mget_cluster\u001b[0;34m(n, ncore, memory)\u001b[0m\n\u001b[1;32m      7\u001b[0m location\u001b[38;5;241m=\u001b[39m\u001b[38;5;124m'\u001b[39m\u001b[38;5;124mwesteurope\u001b[39m\u001b[38;5;124m'\u001b[39m\n\u001b[1;32m      8\u001b[0m \u001b[38;5;66;03m# worker_options=worker_options, docker_image=docker_image\u001b[39;00m\n\u001b[0;32m----> 9\u001b[0m cluster \u001b[38;5;241m=\u001b[39m \u001b[43mAzureVMCluster\u001b[49m\u001b[43m(\u001b[49m\u001b[43mlocation\u001b[49m\u001b[38;5;241;43m=\u001b[39;49m\u001b[43mlocation\u001b[49m\u001b[43m,\u001b[49m\u001b[43m \u001b[49m\u001b[43mresource_group\u001b[49m\u001b[38;5;241;43m=\u001b[39;49m\u001b[43mresource_group\u001b[49m\u001b[43m,\u001b[49m\u001b[43m \u001b[49m\u001b[43mvnet\u001b[49m\u001b[38;5;241;43m=\u001b[39;49m\u001b[43mvnet\u001b[49m\u001b[43m,\u001b[49m\u001b[43m \u001b[49m\u001b[43msecurity_group\u001b[49m\u001b[38;5;241;43m=\u001b[39;49m\u001b[43msecurity_group\u001b[49m\u001b[43m,\u001b[49m\n\u001b[1;32m     10\u001b[0m \u001b[43m                        \u001b[49m\u001b[43mn_workers\u001b[49m\u001b[38;5;241;43m=\u001b[39;49m\u001b[43mn\u001b[49m\u001b[43m)\u001b[49m\n\u001b[1;32m     12\u001b[0m \u001b[38;5;28;01mreturn\u001b[39;00m cluster\n",
      "File \u001b[0;32m/srv/conda/envs/notebook/lib/python3.8/site-packages/dask_cloudprovider/azure/azurevm.py:559\u001b[0m, in \u001b[0;36mAzureVMCluster.__init__\u001b[0;34m(self, location, resource_group, vnet, security_group, public_ingress, vm_size, scheduler_vm_size, vm_image, disk_size, bootstrap, auto_shutdown, docker_image, debug, marketplace_plan, **kwargs)\u001b[0m\n\u001b[1;32m    553\u001b[0m \u001b[38;5;28mself\u001b[39m\u001b[38;5;241m.\u001b[39mscheduler_options \u001b[38;5;241m=\u001b[39m {\n\u001b[1;32m    554\u001b[0m     \u001b[38;5;124m\"\u001b[39m\u001b[38;5;124mvm_size\u001b[39m\u001b[38;5;124m\"\u001b[39m: \u001b[38;5;28mself\u001b[39m\u001b[38;5;241m.\u001b[39mscheduler_vm_size,\n\u001b[1;32m    555\u001b[0m     \u001b[38;5;124m\"\u001b[39m\u001b[38;5;124mpublic_ingress\u001b[39m\u001b[38;5;124m\"\u001b[39m: \u001b[38;5;28mself\u001b[39m\u001b[38;5;241m.\u001b[39mpublic_ingress,\n\u001b[1;32m    556\u001b[0m     \u001b[38;5;241m*\u001b[39m\u001b[38;5;241m*\u001b[39m\u001b[38;5;28mself\u001b[39m\u001b[38;5;241m.\u001b[39moptions,\n\u001b[1;32m    557\u001b[0m }\n\u001b[1;32m    558\u001b[0m \u001b[38;5;28mself\u001b[39m\u001b[38;5;241m.\u001b[39mworker_options \u001b[38;5;241m=\u001b[39m {\u001b[38;5;124m\"\u001b[39m\u001b[38;5;124mvm_size\u001b[39m\u001b[38;5;124m\"\u001b[39m: \u001b[38;5;28mself\u001b[39m\u001b[38;5;241m.\u001b[39mvm_size, \u001b[38;5;241m*\u001b[39m\u001b[38;5;241m*\u001b[39m\u001b[38;5;28mself\u001b[39m\u001b[38;5;241m.\u001b[39moptions}\n\u001b[0;32m--> 559\u001b[0m \u001b[38;5;28;43msuper\u001b[39;49m\u001b[43m(\u001b[49m\u001b[43m)\u001b[49m\u001b[38;5;241;43m.\u001b[39;49m\u001b[38;5;21;43m__init__\u001b[39;49m\u001b[43m(\u001b[49m\u001b[43mdebug\u001b[49m\u001b[38;5;241;43m=\u001b[39;49m\u001b[43mdebug\u001b[49m\u001b[43m,\u001b[49m\u001b[43m \u001b[49m\u001b[38;5;241;43m*\u001b[39;49m\u001b[38;5;241;43m*\u001b[39;49m\u001b[43mkwargs\u001b[49m\u001b[43m)\u001b[49m\n",
      "File \u001b[0;32m/srv/conda/envs/notebook/lib/python3.8/site-packages/dask_cloudprovider/generic/vmcluster.py:297\u001b[0m, in \u001b[0;36mVMCluster.__init__\u001b[0;34m(self, n_workers, worker_class, worker_options, scheduler_options, docker_image, docker_args, extra_bootstrap, env_vars, security, protocol, debug, **kwargs)\u001b[0m\n\u001b[1;32m    294\u001b[0m \u001b[38;5;28mself\u001b[39m\u001b[38;5;241m.\u001b[39mworker_options[\u001b[38;5;124m\"\u001b[39m\u001b[38;5;124mextra_bootstrap\u001b[39m\u001b[38;5;124m\"\u001b[39m] \u001b[38;5;241m=\u001b[39m extra_bootstrap\n\u001b[1;32m    295\u001b[0m \u001b[38;5;28mself\u001b[39m\u001b[38;5;241m.\u001b[39muuid \u001b[38;5;241m=\u001b[39m \u001b[38;5;28mstr\u001b[39m(uuid\u001b[38;5;241m.\u001b[39muuid4())[:\u001b[38;5;241m8\u001b[39m]\n\u001b[0;32m--> 297\u001b[0m \u001b[38;5;28;43msuper\u001b[39;49m\u001b[43m(\u001b[49m\u001b[43m)\u001b[49m\u001b[38;5;241;43m.\u001b[39;49m\u001b[38;5;21;43m__init__\u001b[39;49m\u001b[43m(\u001b[49m\u001b[38;5;241;43m*\u001b[39;49m\u001b[38;5;241;43m*\u001b[39;49m\u001b[43mkwargs\u001b[49m\u001b[43m,\u001b[49m\u001b[43m \u001b[49m\u001b[43msecurity\u001b[49m\u001b[38;5;241;43m=\u001b[39;49m\u001b[38;5;28;43mself\u001b[39;49m\u001b[38;5;241;43m.\u001b[39;49m\u001b[43msecurity\u001b[49m\u001b[43m)\u001b[49m\n",
      "File \u001b[0;32m/srv/conda/envs/notebook/lib/python3.8/site-packages/distributed/deploy/spec.py:260\u001b[0m, in \u001b[0;36mSpecCluster.__init__\u001b[0;34m(self, workers, scheduler, worker, asynchronous, loop, security, silence_logs, name, shutdown_on_close, scheduler_sync_interval)\u001b[0m\n\u001b[1;32m    258\u001b[0m \u001b[38;5;28;01mif\u001b[39;00m \u001b[38;5;129;01mnot\u001b[39;00m \u001b[38;5;28mself\u001b[39m\u001b[38;5;241m.\u001b[39masynchronous:\n\u001b[1;32m    259\u001b[0m     \u001b[38;5;28mself\u001b[39m\u001b[38;5;241m.\u001b[39m_loop_runner\u001b[38;5;241m.\u001b[39mstart()\n\u001b[0;32m--> 260\u001b[0m     \u001b[38;5;28;43mself\u001b[39;49m\u001b[38;5;241;43m.\u001b[39;49m\u001b[43msync\u001b[49m\u001b[43m(\u001b[49m\u001b[38;5;28;43mself\u001b[39;49m\u001b[38;5;241;43m.\u001b[39;49m\u001b[43m_start\u001b[49m\u001b[43m)\u001b[49m\n\u001b[1;32m    261\u001b[0m     \u001b[38;5;28;01mtry\u001b[39;00m:\n\u001b[1;32m    262\u001b[0m         \u001b[38;5;28mself\u001b[39m\u001b[38;5;241m.\u001b[39msync(\u001b[38;5;28mself\u001b[39m\u001b[38;5;241m.\u001b[39m_correct_state)\n",
      "File \u001b[0;32m/srv/conda/envs/notebook/lib/python3.8/site-packages/distributed/utils.py:311\u001b[0m, in \u001b[0;36mSyncMethodMixin.sync\u001b[0;34m(self, func, asynchronous, callback_timeout, *args, **kwargs)\u001b[0m\n\u001b[1;32m    309\u001b[0m     \u001b[38;5;28;01mreturn\u001b[39;00m future\n\u001b[1;32m    310\u001b[0m \u001b[38;5;28;01melse\u001b[39;00m:\n\u001b[0;32m--> 311\u001b[0m     \u001b[38;5;28;01mreturn\u001b[39;00m \u001b[43msync\u001b[49m\u001b[43m(\u001b[49m\n\u001b[1;32m    312\u001b[0m \u001b[43m        \u001b[49m\u001b[38;5;28;43mself\u001b[39;49m\u001b[38;5;241;43m.\u001b[39;49m\u001b[43mloop\u001b[49m\u001b[43m,\u001b[49m\u001b[43m \u001b[49m\u001b[43mfunc\u001b[49m\u001b[43m,\u001b[49m\u001b[43m \u001b[49m\u001b[38;5;241;43m*\u001b[39;49m\u001b[43margs\u001b[49m\u001b[43m,\u001b[49m\u001b[43m \u001b[49m\u001b[43mcallback_timeout\u001b[49m\u001b[38;5;241;43m=\u001b[39;49m\u001b[43mcallback_timeout\u001b[49m\u001b[43m,\u001b[49m\u001b[43m \u001b[49m\u001b[38;5;241;43m*\u001b[39;49m\u001b[38;5;241;43m*\u001b[39;49m\u001b[43mkwargs\u001b[49m\n\u001b[1;32m    313\u001b[0m \u001b[43m    \u001b[49m\u001b[43m)\u001b[49m\n",
      "File \u001b[0;32m/srv/conda/envs/notebook/lib/python3.8/site-packages/distributed/utils.py:374\u001b[0m, in \u001b[0;36msync\u001b[0;34m(loop, func, callback_timeout, *args, **kwargs)\u001b[0m\n\u001b[1;32m    372\u001b[0m \u001b[38;5;28;01melse\u001b[39;00m:\n\u001b[1;32m    373\u001b[0m     \u001b[38;5;28;01mwhile\u001b[39;00m \u001b[38;5;129;01mnot\u001b[39;00m e\u001b[38;5;241m.\u001b[39mis_set():\n\u001b[0;32m--> 374\u001b[0m         \u001b[43mwait\u001b[49m\u001b[43m(\u001b[49m\u001b[38;5;241;43m10\u001b[39;49m\u001b[43m)\u001b[49m\n\u001b[1;32m    376\u001b[0m \u001b[38;5;28;01mif\u001b[39;00m error:\n\u001b[1;32m    377\u001b[0m     typ, exc, tb \u001b[38;5;241m=\u001b[39m error\n",
      "File \u001b[0;32m/srv/conda/envs/notebook/lib/python3.8/site-packages/distributed/utils.py:363\u001b[0m, in \u001b[0;36msync.<locals>.wait\u001b[0;34m(timeout)\u001b[0m\n\u001b[1;32m    361\u001b[0m \u001b[38;5;28;01mdef\u001b[39;00m \u001b[38;5;21mwait\u001b[39m(timeout):\n\u001b[1;32m    362\u001b[0m     \u001b[38;5;28;01mtry\u001b[39;00m:\n\u001b[0;32m--> 363\u001b[0m         \u001b[38;5;28;01mreturn\u001b[39;00m \u001b[43me\u001b[49m\u001b[38;5;241;43m.\u001b[39;49m\u001b[43mwait\u001b[49m\u001b[43m(\u001b[49m\u001b[43mtimeout\u001b[49m\u001b[43m)\u001b[49m\n\u001b[1;32m    364\u001b[0m     \u001b[38;5;28;01mexcept\u001b[39;00m \u001b[38;5;167;01mKeyboardInterrupt\u001b[39;00m:\n\u001b[1;32m    365\u001b[0m         loop\u001b[38;5;241m.\u001b[39madd_callback(cancel)\n",
      "File \u001b[0;32m/srv/conda/envs/notebook/lib/python3.8/threading.py:558\u001b[0m, in \u001b[0;36mEvent.wait\u001b[0;34m(self, timeout)\u001b[0m\n\u001b[1;32m    556\u001b[0m signaled \u001b[38;5;241m=\u001b[39m \u001b[38;5;28mself\u001b[39m\u001b[38;5;241m.\u001b[39m_flag\n\u001b[1;32m    557\u001b[0m \u001b[38;5;28;01mif\u001b[39;00m \u001b[38;5;129;01mnot\u001b[39;00m signaled:\n\u001b[0;32m--> 558\u001b[0m     signaled \u001b[38;5;241m=\u001b[39m \u001b[38;5;28;43mself\u001b[39;49m\u001b[38;5;241;43m.\u001b[39;49m\u001b[43m_cond\u001b[49m\u001b[38;5;241;43m.\u001b[39;49m\u001b[43mwait\u001b[49m\u001b[43m(\u001b[49m\u001b[43mtimeout\u001b[49m\u001b[43m)\u001b[49m\n\u001b[1;32m    559\u001b[0m \u001b[38;5;28;01mreturn\u001b[39;00m signaled\n",
      "File \u001b[0;32m/srv/conda/envs/notebook/lib/python3.8/threading.py:306\u001b[0m, in \u001b[0;36mCondition.wait\u001b[0;34m(self, timeout)\u001b[0m\n\u001b[1;32m    304\u001b[0m \u001b[38;5;28;01melse\u001b[39;00m:\n\u001b[1;32m    305\u001b[0m     \u001b[38;5;28;01mif\u001b[39;00m timeout \u001b[38;5;241m>\u001b[39m \u001b[38;5;241m0\u001b[39m:\n\u001b[0;32m--> 306\u001b[0m         gotit \u001b[38;5;241m=\u001b[39m \u001b[43mwaiter\u001b[49m\u001b[38;5;241;43m.\u001b[39;49m\u001b[43macquire\u001b[49m\u001b[43m(\u001b[49m\u001b[38;5;28;43;01mTrue\u001b[39;49;00m\u001b[43m,\u001b[49m\u001b[43m \u001b[49m\u001b[43mtimeout\u001b[49m\u001b[43m)\u001b[49m\n\u001b[1;32m    307\u001b[0m     \u001b[38;5;28;01melse\u001b[39;00m:\n\u001b[1;32m    308\u001b[0m         gotit \u001b[38;5;241m=\u001b[39m waiter\u001b[38;5;241m.\u001b[39macquire(\u001b[38;5;28;01mFalse\u001b[39;00m)\n",
      "\u001b[0;31mKeyboardInterrupt\u001b[0m: "
     ]
    }
   ],
   "source": [
    "def get_cluster(n=50, ncore=8, memory=16):\n",
    "    worker_options = {'worker_cores': ncore, 'worker_memory': memory}\n",
    "    resource_group='FNRT-M'\n",
    "    docker_image='mcr.microsoft.com/planetary-computer/python'\n",
    "    vnet='FNRTNET'\n",
    "    security_group='FNRTSEC'\n",
    "    location='westeurope'\n",
    "    # worker_options=worker_options, docker_image=docker_image\n",
    "    cluster = AzureVMCluster(location=location, resource_group=resource_group, vnet=vnet, security_group=security_group,\n",
    "                            n_workers=n)\n",
    "    \n",
    "    return cluster\n",
    "cluster = get_cluster(1,2,16)"
   ]
  },
  {
   "cell_type": "code",
   "execution_count": null,
   "id": "11eb9903-1899-4abf-8733-bb19d382f8c6",
   "metadata": {},
   "outputs": [],
   "source": [
    "cluster"
   ]
  },
  {
   "cell_type": "code",
   "execution_count": 17,
   "id": "cf302dcd-c2da-41bf-be38-7f0d153169bb",
   "metadata": {},
   "outputs": [],
   "source": [
    "def read_file(file):\n",
    "    with open(file) as f:\n",
    "        content = f.read()\n",
    "    return content\n",
    "\n",
    "def load_blob_grid(blob_client):\n",
    "    return geojson.loads(blob_client.download_blob().readall())\n",
    "\n",
    "def get_tile(grid, h, v):\n",
    "    return [x for x in grid['features'] if x['properties']['h'] == h\n",
    "            and x['properties']['v'] == v][0]['geometry']\n",
    "\n",
    "def get_bbox(geometry):\n",
    "    return rasterio.features.bounds(geometry)\n",
    "\n",
    "def get_container(container, connection_string):\n",
    "    container_client = azure.storage.blob.ContainerClient.from_connection_string(\n",
    "        connection_string, container_name=container\n",
    "    )\n",
    "    return container_client\n",
    "\n",
    "def get_blob(container_client, blob_name):\n",
    "    blob_client = container_client.get_blob_client(blob_name)\n",
    "    return blob_client\n",
    "\n",
    "def register_package():\n",
    "    plugin = PipInstall(packages=['pysptools', 'cvxopt'], pip_options=['--upgrade'])\n",
    "    client.register_worker_plugin(plugin)\n",
    "\n",
    "endmembers = np.array([[500, 900, 400, 6100, 3000, 1000],\n",
    "                       [1400, 1700, 2200, 3000, 5500, 3000],\n",
    "                       [2000, 3000, 3400, 5800, 6000, 5800],\n",
    "                       [0, 0, 0, 0, 0, 0],\n",
    "                       [9000, 9600, 8000, 7800, 7200, 6500]], dtype=np.int16)"
   ]
  },
  {
   "cell_type": "code",
   "execution_count": 18,
   "id": "546f0dc7-5220-4b6b-bd0e-aac05887542d",
   "metadata": {},
   "outputs": [],
   "source": [
    "catalog = Client.open('https://planetarycomputer.microsoft.com/api/stac/v1')\n",
    "#catalog = Client.open('https://planetarycomputer-staging.microsoft.com/api/stac/v1')\n",
    "\n",
    "def get_epsg(items):\n",
    "    epsgs = [x.properties['proj:epsg'] for x in items]\n",
    "    return 'EPSG: ' + str(mode(epsgs).mode[0])\n",
    "\n",
    "def search_landsat_images(start, end, geometry, limit=1000):\n",
    "    search = catalog.search(\n",
    "        intersects = geometry,\n",
    "        datetime = start + '/' + end,\n",
    "        collections = ['landsat-c2-l2'],\n",
    "        limit = 1000,\n",
    "        query={'landsat:collection_category': {'eq': 'T1'}, \n",
    "               'eo:cloud_cover': {'lt': 90}}\n",
    "    )\n",
    "    return list(search.get_items())\n",
    "\n",
    "def get_landsat_stack(start, end, geometry, chunksize=128):\n",
    "    items = search_landsat_images(start, end, geometry)\n",
    "    signed_items = [planetary_computer.sign(item).to_dict() for item in items]\n",
    "    \n",
    "    bbox = get_bbox(geometry)\n",
    "    epsg = get_epsg(items)\n",
    "    \n",
    "    data = (\n",
    "        stackstac.stack(\n",
    "            signed_items,\n",
    "            assets=['blue', 'green', 'red', 'nir08', 'swir16', 'swir22', 'qa_pixel'],\n",
    "            #assets=['SR_B2', 'SR_B3', 'SR_B4', 'SR_B5', 'SR_B6', 'SR_B7', 'QA_PIXEL'],\n",
    "            chunksize=(-1, -1, chunksize, chunksize),\n",
    "            resolution=30,\n",
    "            epsg=epsg,\n",
    "            bounds_latlon=bbox\n",
    "        )\n",
    "        .assign_coords(band=['Blue', 'Green', 'Red', 'NIR', 'SWIR1', 'SWIR2', 'QA'])\n",
    "    )\n",
    "    return data\n",
    "\n",
    "def array_to_frac_year(array, days_in_year=365.25):\n",
    "    return array.time.dt.year + array.time.dt.day / days_in_year\n",
    "\n",
    "def construct_dependents(array, days_in_year=365.25):\n",
    "    x1 = array_to_frac_year(array, days_in_year)\n",
    "    omega = 2 * math.pi\n",
    "    x2 = np.cos(x1 * omega)\n",
    "    x3 = np.sin(x1 * omega)\n",
    "    return (\n",
    "        xr.concat([x1, x2, x3], dim='x')\n",
    "        .assign_coords(x=['x1', 'x2', 'x3'])\n",
    "        .transpose(*('time', 'x'))\n",
    "    )\n",
    "\n",
    "def fnrt(M, U, X, scale=10000):\n",
    "    M2 = M.astype('int16')\n",
    "    qa = M2[:, -1]\n",
    "    good = [21824, 21952, 5440, 5504]\n",
    "    mask = np.isin(qa, good)\n",
    "    sr = (M2[:, 0:6] * 0.0000275 - 0.2) * scale\n",
    "    unmixed = amp.amaps.FCLS(sr, U)\n",
    "    unmixed[mask==0, :] = np.nan\n",
    "    \n",
    "    gv = unmixed[:, 0]\n",
    "    npv = unmixed[:, 1]\n",
    "    soil = unmixed[:, 2]\n",
    "    shade = unmixed[:, 3]\n",
    "    cloud = unmixed[:, 4]\n",
    "\n",
    "    gv_frac = (gv / (1 - shade)) + (npv + soil)\n",
    "    mask = ((cloud < 0.2) & (shade < 1) & (gv_frac > 0)).astype('uint16')\n",
    "    ndfi = (gv / (1 - shade) - (npv + soil)) / gv_frac * scale\n",
    "    ndfi[mask==0] = np.nan\n",
    "    \n",
    "    regr = linear_model.LinearRegression()\n",
    "    y_true = ndfi[~np.isnan(ndfi)]\n",
    "    x_true = X[~np.isnan(ndfi), :]\n",
    "    lm = regr.fit(x_true, y_true)\n",
    "    coef = lm.coef_\n",
    "    intercept = lm.intercept_\n",
    "    y_pred = lm.predict(x_true)\n",
    "    rmse = mean_squared_error(y_true=y_true, y_pred=y_pred, squared=False)\n",
    "    \n",
    "    return np.array(\n",
    "        [intercept, coef[0], coef[1], coef[2], rmse], \n",
    "        ndmin=2, \n",
    "        dtype='float64'\n",
    "    )\n",
    "    \n",
    "def xr_fnrt(col, endmembers, scale=10000):\n",
    "    X = construct_dependents(col)\n",
    "    return (\n",
    "        xr.apply_ufunc(\n",
    "            fnrt, col,\n",
    "            input_core_dims=[['time', 'band']], \n",
    "            output_core_dims=[['time', 'fit']],\n",
    "            exclude_dims=set(('time', 'band')), \n",
    "            kwargs={'X': X, 'U': endmembers,'scale': scale},\n",
    "            dask='parallelized', \n",
    "            vectorize=True,\n",
    "            output_dtypes=[col.dtype],\n",
    "            output_sizes={'time': 1, 'fit': 5}\n",
    "        )\n",
    "        .rename({'fit': 'band'})\n",
    "        .assign_coords(band=['incpt','slope','cos','sin','rmse'])\n",
    "        .transpose(*col.dims)\n",
    "        .squeeze()\n",
    "    )\n",
    "\n",
    "def export_to_drive(img, des, driver='COG', nodata=0, dask=False, client=None):\n",
    "    dataset = (img\n",
    "               .to_dataset(dim='band')\n",
    "               .rio.write_crs(img.coords['epsg'].item())\n",
    "              )\n",
    "    \n",
    "    for data_var in dataset.data_vars:\n",
    "        dataset[data_var].rio.write_nodata(nodata, inplace=True)\n",
    "    \n",
    "    if dask:\n",
    "        dataset.rio.to_raster(des, driver=driver, tiled=True, lock=Lock('fnrtm', client=client))\n",
    "    else:\n",
    "        dataset.rio.to_raster(des, driver=driver)\n",
    "    \n",
    "def export_to_blob(img, container_client, blob, driver='COG', nodata=0, dask=False, client=None):\n",
    "    dataset = (img\n",
    "               .to_dataset(dim='band')\n",
    "               .rio.write_crs(img.coords['epsg'].item())\n",
    "              )\n",
    "    \n",
    "    for data_var in dataset.data_vars:\n",
    "        dataset[data_var].rio.write_nodata(nodata, inplace=True)\n",
    "    \n",
    "    with io.BytesIO() as buffer:\n",
    "        if dask:\n",
    "            dataset.rio.to_raster(buffer, driver=driver, tiled=True, lock=Lock('fnrtm', client=client))\n",
    "        else:\n",
    "            dataset.rio.to_raster(buffer, driver=driver)\n",
    "        buffer.seek(0)\n",
    "        blob_client = container_client.get_blob_client(blob)\n",
    "        blob_client.upload_blob(buffer, overwrite=True)"
   ]
  },
  {
   "cell_type": "code",
   "execution_count": 19,
   "id": "0e64acf8-b0e6-40a2-9eb4-11d99117c2cd",
   "metadata": {},
   "outputs": [],
   "source": [
    "connection_string = read_file('/home/jovyan/fnrtm/files/connect.txt')\n",
    "container_client = get_container('misc', connection_string)\n",
    "blob_client = get_blob(container_client, 'one_degree_grid.geojson')\n",
    "training_container = get_container('training', connection_string)"
   ]
  },
  {
   "cell_type": "code",
   "execution_count": 20,
   "id": "24fb5172-fc5d-49cf-8377-0b6b511c1752",
   "metadata": {},
   "outputs": [],
   "source": [
    "grid_blob = load_blob_grid(blob_client)"
   ]
  },
  {
   "cell_type": "code",
   "execution_count": 21,
   "id": "a594cb60-d22e-43fb-b7bf-32d4bd90180a",
   "metadata": {},
   "outputs": [
    {
     "data": {
      "text/plain": [
       "(-68.0, -2.0, -67.0, -1.0)"
      ]
     },
     "execution_count": 21,
     "metadata": {},
     "output_type": "execute_result"
    }
   ],
   "source": [
    "tile = get_tile(grid_blob, 112, 88)\n",
    "bbox = get_bbox(tile)\n",
    "bbox"
   ]
  },
  {
   "cell_type": "code",
   "execution_count": 22,
   "id": "a3d8ad5f-da96-459a-a628-c424141bf92e",
   "metadata": {},
   "outputs": [],
   "source": [
    "def run_tile(h, v, chunksize=32):\n",
    "    #register_package()\n",
    "    tile = get_tile(grid_blob, h, v)\n",
    "    lst = get_landsat_stack('2019-01-01', '2021-12-31', tile, chunksize)[:, :, 0:200, 0:200]\n",
    "    trained = xr_fnrt(lst, endmembers)\n",
    "    output_name = ('FNRT_' + f'{h:03}' + f'{v:03}' + '_' + '1921' + '.tif')\n",
    "    print(output_name)\n",
    "    export_to_blob(trained, training_container, output_name, dask=False)\n",
    "    #export_to_drive(trained, '/home/jovyan/fnrtm/data/training/FNRT_041028_1921.tif', dask=False)"
   ]
  },
  {
   "cell_type": "code",
   "execution_count": 23,
   "id": "3dd1b0e2-7e84-4075-87ea-74e9397f0fd1",
   "metadata": {},
   "outputs": [
    {
     "ename": "ConfigError",
     "evalue": "You must configure a location",
     "output_type": "error",
     "traceback": [
      "\u001b[0;31m---------------------------------------------------------------------------\u001b[0m",
      "\u001b[0;31mConfigError\u001b[0m                               Traceback (most recent call last)",
      "Input \u001b[0;32mIn [23]\u001b[0m, in \u001b[0;36m<cell line: 1>\u001b[0;34m()\u001b[0m\n\u001b[0;32m----> 1\u001b[0m (cluster, client) \u001b[38;5;241m=\u001b[39m \u001b[43mget_cluster\u001b[49m\u001b[43m(\u001b[49m\u001b[38;5;241;43m200\u001b[39;49m\u001b[43m,\u001b[49m\u001b[38;5;241;43m2\u001b[39;49m\u001b[43m,\u001b[49m\u001b[38;5;241;43m16\u001b[39;49m\u001b[43m)\u001b[49m\n\u001b[1;32m      2\u001b[0m \u001b[38;5;28mprint\u001b[39m(cluster\u001b[38;5;241m.\u001b[39mdashboard_link)\n",
      "Input \u001b[0;32mIn [16]\u001b[0m, in \u001b[0;36mget_cluster\u001b[0;34m(n, ncore, memory)\u001b[0m\n\u001b[1;32m      1\u001b[0m \u001b[38;5;28;01mdef\u001b[39;00m \u001b[38;5;21mget_cluster\u001b[39m(n\u001b[38;5;241m=\u001b[39m\u001b[38;5;241m50\u001b[39m, ncore\u001b[38;5;241m=\u001b[39m\u001b[38;5;241m8\u001b[39m, memory\u001b[38;5;241m=\u001b[39m\u001b[38;5;241m16\u001b[39m):\n\u001b[1;32m      2\u001b[0m     worker_options \u001b[38;5;241m=\u001b[39m {\u001b[38;5;124m'\u001b[39m\u001b[38;5;124mworker_cores\u001b[39m\u001b[38;5;124m'\u001b[39m: ncore, \u001b[38;5;124m'\u001b[39m\u001b[38;5;124mworker_memory\u001b[39m\u001b[38;5;124m'\u001b[39m: memory}\n\u001b[0;32m----> 3\u001b[0m     cluster \u001b[38;5;241m=\u001b[39m \u001b[43mAzureVMCluster\u001b[49m\u001b[43m(\u001b[49m\u001b[43mresource_group\u001b[49m\u001b[38;5;241;43m=\u001b[39;49m\u001b[38;5;124;43m'\u001b[39;49m\u001b[38;5;124;43mFNRT-M\u001b[39;49m\u001b[38;5;124;43m'\u001b[39;49m\u001b[43m,\u001b[49m\u001b[43m \u001b[49m\u001b[43mvnet\u001b[49m\u001b[38;5;241;43m=\u001b[39;49m\u001b[38;5;124;43m'\u001b[39;49m\u001b[38;5;124;43mFNRTNET\u001b[39;49m\u001b[38;5;124;43m'\u001b[39;49m\u001b[43m,\u001b[49m\u001b[43m \u001b[49m\u001b[43msecurity_group\u001b[49m\u001b[38;5;241;43m=\u001b[39;49m\u001b[38;5;124;43m'\u001b[39;49m\u001b[38;5;124;43mFNRTSEC\u001b[39;49m\u001b[38;5;124;43m'\u001b[39;49m\u001b[43m,\u001b[49m\u001b[43m \u001b[49m\u001b[43mn_workers\u001b[49m\u001b[38;5;241;43m=\u001b[39;49m\u001b[43mn\u001b[49m\u001b[43m,\u001b[49m\n\u001b[1;32m      4\u001b[0m \u001b[43m                            \u001b[49m\u001b[43mdocker_image\u001b[49m\u001b[38;5;241;43m=\u001b[39;49m\u001b[38;5;124;43m'\u001b[39;49m\u001b[38;5;124;43mmcr.microsoft.com/planetary-computer/python\u001b[39;49m\u001b[38;5;124;43m'\u001b[39;49m\u001b[43m,\u001b[49m\u001b[43m \u001b[49m\u001b[43mworker_options\u001b[49m\u001b[38;5;241;43m=\u001b[39;49m\u001b[43mworker_options\u001b[49m\u001b[43m)\u001b[49m\n\u001b[1;32m      5\u001b[0m     client \u001b[38;5;241m=\u001b[39m cluster\u001b[38;5;241m.\u001b[39mget_client()\n\u001b[1;32m      6\u001b[0m     \u001b[38;5;28;01mreturn\u001b[39;00m (cluster, client)\n",
      "File \u001b[0;32m/srv/conda/envs/notebook/lib/python3.8/site-packages/dask_cloudprovider/azure/azurevm.py:474\u001b[0m, in \u001b[0;36mAzureVMCluster.__init__\u001b[0;34m(self, location, resource_group, vnet, security_group, public_ingress, vm_size, scheduler_vm_size, vm_image, disk_size, bootstrap, auto_shutdown, docker_image, debug, marketplace_plan, **kwargs)\u001b[0m\n\u001b[1;32m    472\u001b[0m \u001b[38;5;28mself\u001b[39m\u001b[38;5;241m.\u001b[39mlocation \u001b[38;5;241m=\u001b[39m \u001b[38;5;28mself\u001b[39m\u001b[38;5;241m.\u001b[39mconfig\u001b[38;5;241m.\u001b[39mget(\u001b[38;5;124m\"\u001b[39m\u001b[38;5;124mlocation\u001b[39m\u001b[38;5;124m\"\u001b[39m, override_with\u001b[38;5;241m=\u001b[39mlocation)\n\u001b[1;32m    473\u001b[0m \u001b[38;5;28;01mif\u001b[39;00m \u001b[38;5;28mself\u001b[39m\u001b[38;5;241m.\u001b[39mlocation \u001b[38;5;129;01mis\u001b[39;00m \u001b[38;5;28;01mNone\u001b[39;00m:\n\u001b[0;32m--> 474\u001b[0m     \u001b[38;5;28;01mraise\u001b[39;00m ConfigError(\u001b[38;5;124m\"\u001b[39m\u001b[38;5;124mYou must configure a location\u001b[39m\u001b[38;5;124m\"\u001b[39m)\n\u001b[1;32m    475\u001b[0m \u001b[38;5;28mself\u001b[39m\u001b[38;5;241m.\u001b[39mresource_group \u001b[38;5;241m=\u001b[39m \u001b[38;5;28mself\u001b[39m\u001b[38;5;241m.\u001b[39mconfig\u001b[38;5;241m.\u001b[39mget(\n\u001b[1;32m    476\u001b[0m     \u001b[38;5;124m\"\u001b[39m\u001b[38;5;124mresource_group\u001b[39m\u001b[38;5;124m\"\u001b[39m, override_with\u001b[38;5;241m=\u001b[39mresource_group\n\u001b[1;32m    477\u001b[0m )\n\u001b[1;32m    478\u001b[0m \u001b[38;5;28;01mif\u001b[39;00m \u001b[38;5;28mself\u001b[39m\u001b[38;5;241m.\u001b[39mresource_group \u001b[38;5;129;01mis\u001b[39;00m \u001b[38;5;28;01mNone\u001b[39;00m:\n",
      "\u001b[0;31mConfigError\u001b[0m: You must configure a location"
     ]
    }
   ],
   "source": [
    "(cluster, client) = get_cluster(200,2,16)\n",
    "print(cluster.dashboard_link)"
   ]
  },
  {
   "cell_type": "code",
   "execution_count": null,
   "id": "15411431-1a2d-43e2-a674-0dda10fb9b86",
   "metadata": {},
   "outputs": [],
   "source": [
    "register_package()"
   ]
  },
  {
   "cell_type": "code",
   "execution_count": null,
   "id": "d4cb0504-a71d-4e02-94e2-798476da0b58",
   "metadata": {},
   "outputs": [],
   "source": [
    "run_tile(112, 88, 32)"
   ]
  },
  {
   "cell_type": "code",
   "execution_count": null,
   "id": "3fd50c50-0a57-43ba-8296-6242f7057816",
   "metadata": {},
   "outputs": [],
   "source": [
    "cluster.close()"
   ]
  },
  {
   "cell_type": "code",
   "execution_count": null,
   "id": "46c8e521-8b26-41fd-a18b-bebeaf7fc51e",
   "metadata": {},
   "outputs": [],
   "source": []
  }
 ],
 "metadata": {
  "kernelspec": {
   "display_name": "Python 3 (ipykernel)",
   "language": "python",
   "name": "python3"
  },
  "language_info": {
   "codemirror_mode": {
    "name": "ipython",
    "version": 3
   },
   "file_extension": ".py",
   "mimetype": "text/x-python",
   "name": "python",
   "nbconvert_exporter": "python",
   "pygments_lexer": "ipython3",
   "version": "3.8.13"
  }
 },
 "nbformat": 4,
 "nbformat_minor": 5
}
