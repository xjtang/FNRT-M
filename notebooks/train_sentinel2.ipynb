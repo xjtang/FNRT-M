{
 "cells": [
  {
   "cell_type": "code",
   "execution_count": 3,
   "id": "046eee63-80c7-4c22-bf9c-bb1b8b8718ec",
   "metadata": {
    "tags": []
   },
   "outputs": [],
   "source": [
    "import io\n",
    "import os\n",
    "import math\n",
    "import stackstac\n",
    "import geojson\n",
    "import dask_gateway\n",
    "import planetary_computer\n",
    "import rasterio.features\n",
    "import azure.storage.blob\n",
    "import numpy as np\n",
    "import xarray as xr\n",
    "import rioxarray as rioxr\n",
    "import pysptools.abundance_maps as amp\n",
    "import matplotlib.pyplot as plt\n",
    "from dask.distributed import PipInstall, Lock\n",
    "from scipy.stats import mode\n",
    "from dask_gateway import GatewayCluster\n",
    "from pystac_client import Client\n",
    "from sklearn import linear_model\n",
    "from sklearn.metrics import mean_squared_error"
   ]
  },
  {
   "cell_type": "code",
   "execution_count": 4,
   "id": "f8f7e1f3-e4c9-493a-82e1-700b1122248c",
   "metadata": {
    "tags": []
   },
   "outputs": [],
   "source": [
    "def install():\n",
    "    os.system('pip install pysptools') \n",
    "    os.system('pip install cvxopt')  \n",
    "\n",
    "def read_file(file):\n",
    "    with open(file) as f:\n",
    "        content = f.read()\n",
    "    return content\n",
    "\n",
    "def load_blob_grid(blob_client):\n",
    "    return geojson.loads(blob_client.download_blob().readall())\n",
    "\n",
    "def get_tile(grid, h, v):\n",
    "    return [x for x in grid['features'] if x['properties']['horizontal'] == h\n",
    "            and x['properties']['vertical'] == v][0]['geometry']\n",
    "\n",
    "def get_bbox(geometry):\n",
    "    return rasterio.features.bounds(tile)\n",
    "\n",
    "def get_container(container, connection_string):\n",
    "    container_client = azure.storage.blob.ContainerClient.from_connection_string(\n",
    "        connection_string, container_name=container\n",
    "    )\n",
    "    return container_client\n",
    "\n",
    "def get_blob(container_client, blob_name):\n",
    "    blob_client = container_client.get_blob_client(blob_name)\n",
    "    return blob_client\n",
    "\n",
    "def get_cluster(n=20, ncore=8, memory=16):\n",
    "    gateway = dask_gateway.Gateway()\n",
    "    cluster_options = gateway.cluster_options()\n",
    "    cluster_options[\"worker_cores\"] = ncore\n",
    "    cluster_options[\"worker_memory\"] = memory\n",
    "    \n",
    "    cluster = gateway.new_cluster(cluster_options)\n",
    "    cluster.scale(n)\n",
    "    client = cluster.get_client()\n",
    "    return (cluster, client)\n",
    "\n",
    "def register_package():\n",
    "    plugin = PipInstall(packages=['pysptools', 'cvxopt'], pip_options=['--upgrade'])\n",
    "    client.register_worker_plugin(plugin)\n",
    "\n",
    "endmembers = np.array([[500, 900, 400, 6100, 3000, 1000],\n",
    "                       [1400, 1700, 2200, 3000, 5500, 3000],\n",
    "                       [2000, 3000, 3400, 5800, 6000, 5800],\n",
    "                       [0, 0, 0, 0, 0, 0],\n",
    "                       [9000, 9600, 8000, 7800, 7200, 6500]], dtype=np.int16)"
   ]
  },
  {
   "cell_type": "code",
   "execution_count": 30,
   "id": "a86a5fe4-a026-4c64-98d6-6d979c24d729",
   "metadata": {
    "tags": []
   },
   "outputs": [],
   "source": [
    "def search_sentinel2_images(start, end, geometry, limit=1000):\n",
    "    search = catalog.search(\n",
    "        bbox = geometry,\n",
    "        datetime = start + '/' + end,\n",
    "        collections = ['sentinel-2-l2a'],\n",
    "        limit = 1000,\n",
    "        query={'eo:cloud_cover': {'lt': 90}}\n",
    "    )\n",
    "    return list(search.get_items())\n",
    "\n",
    "def get_sentinel2_stack(start, end, geometry, chunksize=1024):\n",
    "    items = search_sentinel2_images(start, end, geometry)\n",
    "    signed_items = [planetary_computer.sign(item).to_dict() for item in items]\n",
    "    \n",
    "    #bbox = get_bbox(geometry)\n",
    "    epsg = get_epsg(items)\n",
    "    \n",
    "    data = (\n",
    "        stackstac.stack(\n",
    "            signed_items,\n",
    "            assets=['blue'],\n",
    "            #assets=['SR_B2', 'SR_B3', 'SR_B4', 'SR_B5', 'SR_B6', 'SR_B7', 'QA_PIXEL'],\n",
    "            #chunksize=(1, 1, chunksize, chunksize),\n",
    "            resolution=30,\n",
    "            #epsg=epsg,\n",
    "            #bounds_latlon=bbox\n",
    "        )\n",
    "        #.assign_coords(band=['Blue', 'Green', 'Red', 'NIR', 'SWIR1', 'SWIR2', 'QA'])\n",
    "    )\n",
    "    return data#.chunk((-1, -1, chunksize, chunksize))\\"
   ]
  },
  {
   "cell_type": "code",
   "execution_count": 31,
   "id": "7416bc84-8799-449e-9fda-fdf6e0a102e4",
   "metadata": {
    "tags": []
   },
   "outputs": [],
   "source": [
    "connection_string = read_file('/home/jovyan/fnrtm/files/connect.txt')\n",
    "container_client = get_container('misc', connection_string)\n",
    "blob_client = get_blob(container_client, 'amazon_grid.geojson')\n",
    "training_container = get_container('training', connection_string)\n",
    "grid_blob = load_blob_grid(blob_client)\n",
    "tile = get_tile(grid_blob, 41, 28)"
   ]
  },
  {
   "cell_type": "code",
   "execution_count": 32,
   "id": "4ee9ad48-ca06-493a-9d10-2424c13aed26",
   "metadata": {
    "tags": []
   },
   "outputs": [],
   "source": [
    "catalog = Client.open('https://planetarycomputer.microsoft.com/api/stac/v1')\n",
    "#catalog = Client.open('https://planetarycomputer-staging.microsoft.com/api/stac/v1')\n",
    "\n",
    "def get_epsg(items):\n",
    "    epsgs = [x.properties['proj:epsg'] for x in items]\n",
    "    return 'EPSG: ' + str(mode(epsgs).mode[0])"
   ]
  },
  {
   "cell_type": "code",
   "execution_count": 33,
   "id": "7b4e7171-1912-4f56-92d2-a6de572d7123",
   "metadata": {
    "tags": []
   },
   "outputs": [
    {
     "data": {
      "text/plain": [
       "(-67.008753, -9.96445, -65.615556, -8.57408)"
      ]
     },
     "execution_count": 33,
     "metadata": {},
     "output_type": "execute_result"
    }
   ],
   "source": [
    "tile\n",
    "bbox = get_bbox(tile)\n",
    "bbox"
   ]
  },
  {
   "cell_type": "code",
   "execution_count": 34,
   "id": "859f8780-336c-403e-ba03-43675ea2befb",
   "metadata": {
    "tags": []
   },
   "outputs": [
    {
     "name": "stderr",
     "output_type": "stream",
     "text": [
      "/tmp/ipykernel_1175/732763501.py:6: FutureWarning: Unlike other reduction functions (e.g. `skew`, `kurtosis`), the default behavior of `mode` typically preserves the axis it acts along. In SciPy 1.11.0, this behavior will change: the default value of `keepdims` will become False, the `axis` over which the statistic is taken will be eliminated, and the value None will no longer be accepted. Set `keepdims` to True or False to avoid this warning.\n",
      "  return 'EPSG: ' + str(mode(epsgs).mode[0])\n"
     ]
    },
    {
     "ename": "TypeError",
     "evalue": "cannot unpack non-iterable NoneType object",
     "output_type": "error",
     "traceback": [
      "\u001b[0;31m---------------------------------------------------------------------------\u001b[0m",
      "\u001b[0;31mTypeError\u001b[0m                                 Traceback (most recent call last)",
      "Cell \u001b[0;32mIn[34], line 1\u001b[0m\n\u001b[0;32m----> 1\u001b[0m s2 \u001b[38;5;241m=\u001b[39m \u001b[43mget_sentinel2_stack\u001b[49m\u001b[43m(\u001b[49m\u001b[38;5;124;43m'\u001b[39;49m\u001b[38;5;124;43m2020-06-01\u001b[39;49m\u001b[38;5;124;43m'\u001b[39;49m\u001b[43m,\u001b[49m\u001b[43m \u001b[49m\u001b[38;5;124;43m'\u001b[39;49m\u001b[38;5;124;43m2020-12-31\u001b[39;49m\u001b[38;5;124;43m'\u001b[39;49m\u001b[43m,\u001b[49m\u001b[43m \u001b[49m\u001b[43mbbox\u001b[49m\u001b[43m)\u001b[49m\n\u001b[1;32m      2\u001b[0m s2\n",
      "Cell \u001b[0;32mIn[30], line 19\u001b[0m, in \u001b[0;36mget_sentinel2_stack\u001b[0;34m(start, end, geometry, chunksize)\u001b[0m\n\u001b[1;32m     15\u001b[0m \u001b[38;5;66;03m#bbox = get_bbox(geometry)\u001b[39;00m\n\u001b[1;32m     16\u001b[0m epsg \u001b[38;5;241m=\u001b[39m get_epsg(items)\n\u001b[1;32m     18\u001b[0m data \u001b[38;5;241m=\u001b[39m (\n\u001b[0;32m---> 19\u001b[0m     \u001b[43mstackstac\u001b[49m\u001b[38;5;241;43m.\u001b[39;49m\u001b[43mstack\u001b[49m\u001b[43m(\u001b[49m\n\u001b[1;32m     20\u001b[0m \u001b[43m        \u001b[49m\u001b[43msigned_items\u001b[49m\u001b[43m,\u001b[49m\n\u001b[1;32m     21\u001b[0m \u001b[43m        \u001b[49m\u001b[43massets\u001b[49m\u001b[38;5;241;43m=\u001b[39;49m\u001b[43m[\u001b[49m\u001b[38;5;124;43m'\u001b[39;49m\u001b[38;5;124;43mblue\u001b[39;49m\u001b[38;5;124;43m'\u001b[39;49m\u001b[43m]\u001b[49m\u001b[43m,\u001b[49m\n\u001b[1;32m     22\u001b[0m \u001b[43m        \u001b[49m\u001b[38;5;66;43;03m#assets=['SR_B2', 'SR_B3', 'SR_B4', 'SR_B5', 'SR_B6', 'SR_B7', 'QA_PIXEL'],\u001b[39;49;00m\n\u001b[1;32m     23\u001b[0m \u001b[43m        \u001b[49m\u001b[38;5;66;43;03m#chunksize=(1, 1, chunksize, chunksize),\u001b[39;49;00m\n\u001b[1;32m     24\u001b[0m \u001b[43m        \u001b[49m\u001b[43mresolution\u001b[49m\u001b[38;5;241;43m=\u001b[39;49m\u001b[38;5;241;43m30\u001b[39;49m\u001b[43m,\u001b[49m\n\u001b[1;32m     25\u001b[0m \u001b[43m        \u001b[49m\u001b[38;5;66;43;03m#epsg=epsg,\u001b[39;49;00m\n\u001b[1;32m     26\u001b[0m \u001b[43m        \u001b[49m\u001b[38;5;66;43;03m#bounds_latlon=bbox\u001b[39;49;00m\n\u001b[1;32m     27\u001b[0m \u001b[43m    \u001b[49m\u001b[43m)\u001b[49m\n\u001b[1;32m     28\u001b[0m     \u001b[38;5;66;03m#.assign_coords(band=['Blue', 'Green', 'Red', 'NIR', 'SWIR1', 'SWIR2', 'QA'])\u001b[39;00m\n\u001b[1;32m     29\u001b[0m )\n\u001b[1;32m     30\u001b[0m \u001b[38;5;28;01mreturn\u001b[39;00m data\n",
      "File \u001b[0;32m/srv/conda/envs/notebook/lib/python3.10/site-packages/stackstac/stack.py:287\u001b[0m, in \u001b[0;36mstack\u001b[0;34m(items, assets, epsg, resolution, bounds, bounds_latlon, snap_bounds, resampling, chunksize, dtype, fill_value, rescale, sortby_date, xy_coords, properties, band_coords, gdal_env, errors_as_nodata, reader)\u001b[0m\n\u001b[1;32m    280\u001b[0m \u001b[38;5;28;01mif\u001b[39;00m sortby_date \u001b[38;5;129;01mis\u001b[39;00m \u001b[38;5;129;01mnot\u001b[39;00m \u001b[38;5;28;01mFalse\u001b[39;00m:\n\u001b[1;32m    281\u001b[0m     plain_items \u001b[38;5;241m=\u001b[39m \u001b[38;5;28msorted\u001b[39m(\n\u001b[1;32m    282\u001b[0m         plain_items,\n\u001b[1;32m    283\u001b[0m         key\u001b[38;5;241m=\u001b[39m\u001b[38;5;28;01mlambda\u001b[39;00m item: item[\u001b[38;5;124m\"\u001b[39m\u001b[38;5;124mproperties\u001b[39m\u001b[38;5;124m\"\u001b[39m]\u001b[38;5;241m.\u001b[39mget(\u001b[38;5;124m\"\u001b[39m\u001b[38;5;124mdatetime\u001b[39m\u001b[38;5;124m\"\u001b[39m, \u001b[38;5;124m\"\u001b[39m\u001b[38;5;124m\"\u001b[39m) \u001b[38;5;129;01mor\u001b[39;00m \u001b[38;5;124m\"\u001b[39m\u001b[38;5;124m\"\u001b[39m,\n\u001b[1;32m    284\u001b[0m         reverse\u001b[38;5;241m=\u001b[39msortby_date \u001b[38;5;241m==\u001b[39m \u001b[38;5;124m\"\u001b[39m\u001b[38;5;124mdesc\u001b[39m\u001b[38;5;124m\"\u001b[39m,\n\u001b[1;32m    285\u001b[0m     )\n\u001b[0;32m--> 287\u001b[0m asset_table, spec, asset_ids, plain_items \u001b[38;5;241m=\u001b[39m \u001b[43mprepare_items\u001b[49m\u001b[43m(\u001b[49m\n\u001b[1;32m    288\u001b[0m \u001b[43m    \u001b[49m\u001b[43mplain_items\u001b[49m\u001b[43m,\u001b[49m\n\u001b[1;32m    289\u001b[0m \u001b[43m    \u001b[49m\u001b[43massets\u001b[49m\u001b[38;5;241;43m=\u001b[39;49m\u001b[43massets\u001b[49m\u001b[43m,\u001b[49m\n\u001b[1;32m    290\u001b[0m \u001b[43m    \u001b[49m\u001b[43mepsg\u001b[49m\u001b[38;5;241;43m=\u001b[39;49m\u001b[43mepsg\u001b[49m\u001b[43m,\u001b[49m\n\u001b[1;32m    291\u001b[0m \u001b[43m    \u001b[49m\u001b[43mresolution\u001b[49m\u001b[38;5;241;43m=\u001b[39;49m\u001b[43mresolution\u001b[49m\u001b[43m,\u001b[49m\n\u001b[1;32m    292\u001b[0m \u001b[43m    \u001b[49m\u001b[43mbounds\u001b[49m\u001b[38;5;241;43m=\u001b[39;49m\u001b[43mbounds\u001b[49m\u001b[43m,\u001b[49m\n\u001b[1;32m    293\u001b[0m \u001b[43m    \u001b[49m\u001b[43mbounds_latlon\u001b[49m\u001b[38;5;241;43m=\u001b[39;49m\u001b[43mbounds_latlon\u001b[49m\u001b[43m,\u001b[49m\n\u001b[1;32m    294\u001b[0m \u001b[43m    \u001b[49m\u001b[43msnap_bounds\u001b[49m\u001b[38;5;241;43m=\u001b[39;49m\u001b[43msnap_bounds\u001b[49m\u001b[43m,\u001b[49m\n\u001b[1;32m    295\u001b[0m \u001b[43m\u001b[49m\u001b[43m)\u001b[49m\n\u001b[1;32m    296\u001b[0m arr \u001b[38;5;241m=\u001b[39m items_to_dask(\n\u001b[1;32m    297\u001b[0m     asset_table,\n\u001b[1;32m    298\u001b[0m     spec,\n\u001b[0;32m   (...)\u001b[0m\n\u001b[1;32m    306\u001b[0m     errors_as_nodata\u001b[38;5;241m=\u001b[39merrors_as_nodata,\n\u001b[1;32m    307\u001b[0m )\n\u001b[1;32m    309\u001b[0m \u001b[38;5;28;01mreturn\u001b[39;00m xr\u001b[38;5;241m.\u001b[39mDataArray(\n\u001b[1;32m    310\u001b[0m     arr,\n\u001b[1;32m    311\u001b[0m     \u001b[38;5;241m*\u001b[39mto_coords(\n\u001b[0;32m   (...)\u001b[0m\n\u001b[1;32m    320\u001b[0m     name\u001b[38;5;241m=\u001b[39m\u001b[38;5;124m\"\u001b[39m\u001b[38;5;124mstackstac-\u001b[39m\u001b[38;5;124m\"\u001b[39m \u001b[38;5;241m+\u001b[39m dask\u001b[38;5;241m.\u001b[39mbase\u001b[38;5;241m.\u001b[39mtokenize(arr),\n\u001b[1;32m    321\u001b[0m )\n",
      "File \u001b[0;32m/srv/conda/envs/notebook/lib/python3.10/site-packages/stackstac/prepare.py:333\u001b[0m, in \u001b[0;36mprepare_items\u001b[0;34m(items, assets, epsg, resolution, bounds, bounds_latlon, snap_bounds)\u001b[0m\n\u001b[1;32m    330\u001b[0m out_epsg \u001b[38;5;241m=\u001b[39m cast(\u001b[38;5;28mint\u001b[39m, out_epsg)\n\u001b[1;32m    332\u001b[0m \u001b[38;5;28;01mif\u001b[39;00m snap_bounds:\n\u001b[0;32m--> 333\u001b[0m     out_bounds \u001b[38;5;241m=\u001b[39m \u001b[43mgeom_utils\u001b[49m\u001b[38;5;241;43m.\u001b[39;49m\u001b[43msnapped_bounds\u001b[49m\u001b[43m(\u001b[49m\u001b[43mout_bounds\u001b[49m\u001b[43m,\u001b[49m\u001b[43m \u001b[49m\u001b[43mout_resolutions_xy\u001b[49m\u001b[43m)\u001b[49m\n\u001b[1;32m    334\u001b[0m spec \u001b[38;5;241m=\u001b[39m RasterSpec(\n\u001b[1;32m    335\u001b[0m     epsg\u001b[38;5;241m=\u001b[39mout_epsg,\n\u001b[1;32m    336\u001b[0m     bounds\u001b[38;5;241m=\u001b[39mout_bounds,\n\u001b[1;32m    337\u001b[0m     resolutions_xy\u001b[38;5;241m=\u001b[39mout_resolutions_xy,\n\u001b[1;32m    338\u001b[0m )\n\u001b[1;32m    340\u001b[0m \u001b[38;5;66;03m# Drop items / asset IDs that are all to-be-skipped (either the asset didn't exist, or it was fully out-of-bounds)\u001b[39;00m\n",
      "File \u001b[0;32m/srv/conda/envs/notebook/lib/python3.10/site-packages/stackstac/geom_utils.py:72\u001b[0m, in \u001b[0;36msnapped_bounds\u001b[0;34m(bounds, resolutions_xy)\u001b[0m\n\u001b[1;32m     71\u001b[0m \u001b[38;5;28;01mdef\u001b[39;00m \u001b[38;5;21msnapped_bounds\u001b[39m(bounds: Bbox, resolutions_xy: Resolutions) \u001b[38;5;241m-\u001b[39m\u001b[38;5;241m>\u001b[39m Bbox:\n\u001b[0;32m---> 72\u001b[0m     minx, miny, maxx, maxy \u001b[38;5;241m=\u001b[39m bounds\n\u001b[1;32m     73\u001b[0m     xres, yres \u001b[38;5;241m=\u001b[39m resolutions_xy\n\u001b[1;32m     75\u001b[0m     minx \u001b[38;5;241m=\u001b[39m math\u001b[38;5;241m.\u001b[39mfloor(minx \u001b[38;5;241m/\u001b[39m xres) \u001b[38;5;241m*\u001b[39m xres\n",
      "\u001b[0;31mTypeError\u001b[0m: cannot unpack non-iterable NoneType object"
     ]
    }
   ],
   "source": [
    "s2 = get_sentinel2_stack('2020-06-01', '2020-12-31', bbox)\n",
    "s2"
   ]
  },
  {
   "cell_type": "code",
   "execution_count": null,
   "id": "c4bf2298-39a4-43de-8e2e-ea40eff78c97",
   "metadata": {},
   "outputs": [],
   "source": []
  }
 ],
 "metadata": {
  "kernelspec": {
   "display_name": "Python 3 (ipykernel)",
   "language": "python",
   "name": "python3"
  },
  "language_info": {
   "codemirror_mode": {
    "name": "ipython",
    "version": 3
   },
   "file_extension": ".py",
   "mimetype": "text/x-python",
   "name": "python",
   "nbconvert_exporter": "python",
   "pygments_lexer": "ipython3",
   "version": "3.10.10"
  }
 },
 "nbformat": 4,
 "nbformat_minor": 5
}
